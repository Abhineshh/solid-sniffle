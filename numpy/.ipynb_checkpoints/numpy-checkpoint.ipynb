{
 "cells": [
  {
   "cell_type": "code",
   "execution_count": 1,
   "id": "658cfb4c-a182-42b7-87cf-f7c35ea77d2a",
   "metadata": {},
   "outputs": [],
   "source": [
    "import numpy as np"
   ]
  },
  {
   "cell_type": "code",
   "execution_count": 2,
   "id": "3b24b26e-8959-4afd-abbb-6f001e45f22a",
   "metadata": {},
   "outputs": [],
   "source": [
    "arr = np.array([1,2,3,4,5]) # array creation 1d"
   ]
  },
  {
   "cell_type": "code",
   "execution_count": 3,
   "id": "e7064b5e-3c15-40e6-ab3c-812c9d702262",
   "metadata": {},
   "outputs": [
    {
     "name": "stdout",
     "output_type": "stream",
     "text": [
      "1\n"
     ]
    }
   ],
   "source": [
    "print(arr[0])"
   ]
  },
  {
   "cell_type": "code",
   "execution_count": 4,
   "id": "15009c0d-8eb6-44fc-a4d6-2b3d23d04df2",
   "metadata": {},
   "outputs": [],
   "source": [
    "matarr = np.array([[1,2,3],[4,5,6],[7,8,9]]) # 2d array creation"
   ]
  },
  {
   "cell_type": "code",
   "execution_count": 5,
   "id": "031632e7-9c4a-4746-ac9e-cf842d99744b",
   "metadata": {},
   "outputs": [
    {
     "name": "stdout",
     "output_type": "stream",
     "text": [
      "2\n"
     ]
    }
   ],
   "source": [
    "print(matarr.ndim)"
   ]
  },
  {
   "cell_type": "code",
   "execution_count": 6,
   "id": "ba333d88-1b59-4e79-9d4d-631da7b16d40",
   "metadata": {},
   "outputs": [
    {
     "name": "stdout",
     "output_type": "stream",
     "text": [
      "1\n",
      "5\n",
      "(5,)\n",
      "1\n",
      "int64\n"
     ]
    }
   ],
   "source": [
    "print(arr.ndim)\n",
    "print(arr.size)\n",
    "print(arr.shape)\n",
    "print(len(arr.shape))\n",
    "print(arr.dtype)"
   ]
  },
  {
   "cell_type": "code",
   "execution_count": 7,
   "id": "9d3ce926-b31c-4c21-93f3-7b5ee1d2e29b",
   "metadata": {},
   "outputs": [
    {
     "name": "stdout",
     "output_type": "stream",
     "text": [
      "2\n",
      "9\n",
      "(3, 3)\n",
      "2\n",
      "int64\n"
     ]
    }
   ],
   "source": [
    "print(matarr.ndim)\n",
    "print(matarr.size)\n",
    "print(matarr.shape)\n",
    "print(len(matarr.shape))\n",
    "print(matarr.dtype)"
   ]
  },
  {
   "cell_type": "markdown",
   "id": "a02872fc-49b9-4d22-989a-e696a3a9dcac",
   "metadata": {},
   "source": [
    "a = np.array([45])\n",
    "print(a.ndim)\n",
    "print(a.size)\n",
    "print(a.shape)\n",
    "print(len(a.shape))\n",
    "print(matarr.dtype)"
   ]
  },
  {
   "cell_type": "markdown",
   "id": "eb4d0c0d-1007-4c86-a27b-44b1b652ad00",
   "metadata": {},
   "source": [
    "# creating common arrays"
   ]
  },
  {
   "cell_type": "code",
   "execution_count": 8,
   "id": "9fb97dbb-d595-478f-968c-2d6d06846002",
   "metadata": {},
   "outputs": [],
   "source": [
    "z = np.zeros(10)"
   ]
  },
  {
   "cell_type": "code",
   "execution_count": 9,
   "id": "98b7fb77-aa61-45ee-a0ca-588ac3900619",
   "metadata": {},
   "outputs": [
    {
     "name": "stdout",
     "output_type": "stream",
     "text": [
      "[0. 0. 0. 0. 0. 0. 0. 0. 0. 0.]\n"
     ]
    }
   ],
   "source": [
    "print(z)"
   ]
  },
  {
   "cell_type": "markdown",
   "id": "00cb5ed9-a136-45b3-a97d-03709f676126",
   "metadata": {},
   "source": [
    "### By default the data type in these common arrays creating function is float64"
   ]
  },
  {
   "cell_type": "code",
   "execution_count": 10,
   "id": "908c729c-a808-4bfb-9d7e-3c38e4670f3d",
   "metadata": {},
   "outputs": [
    {
     "name": "stdout",
     "output_type": "stream",
     "text": [
      "[0 0 0 0 0 0 0 0 0 0]\n"
     ]
    }
   ],
   "source": [
    "zi = np.zeros(10, dtype = np.int64)\n",
    "print(zi)"
   ]
  },
  {
   "cell_type": "code",
   "execution_count": 11,
   "id": "fd716acb-72d3-47e9-92de-04c901469563",
   "metadata": {},
   "outputs": [],
   "source": [
    "z = np.zeros((2,3))"
   ]
  },
  {
   "cell_type": "code",
   "execution_count": 12,
   "id": "7aa462ef-2f6e-47da-b4b5-f23e38f05619",
   "metadata": {},
   "outputs": [
    {
     "name": "stdout",
     "output_type": "stream",
     "text": [
      "[[0. 0. 0.]\n",
      " [0. 0. 0.]]\n"
     ]
    }
   ],
   "source": [
    "print(z) # it will print a 2x3 matrix"
   ]
  },
  {
   "cell_type": "code",
   "execution_count": 13,
   "id": "467d69d4-ebff-4a03-8ed4-5ca3d7311514",
   "metadata": {},
   "outputs": [
    {
     "name": "stdout",
     "output_type": "stream",
     "text": [
      "[[[0. 0. 0. 0. 0. 0. 0.]\n",
      "  [0. 0. 0. 0. 0. 0. 0.]\n",
      "  [0. 0. 0. 0. 0. 0. 0.]]\n",
      "\n",
      " [[0. 0. 0. 0. 0. 0. 0.]\n",
      "  [0. 0. 0. 0. 0. 0. 0.]\n",
      "  [0. 0. 0. 0. 0. 0. 0.]]\n",
      "\n",
      " [[0. 0. 0. 0. 0. 0. 0.]\n",
      "  [0. 0. 0. 0. 0. 0. 0.]\n",
      "  [0. 0. 0. 0. 0. 0. 0.]]]\n"
     ]
    }
   ],
   "source": [
    "z = np.zeros((3,3,7)) # the parameter is a tuple to represent shape ie dimensions\n",
    "print(z) # will print a 3x3x3 tensor"
   ]
  },
  {
   "cell_type": "code",
   "execution_count": 14,
   "id": "523d251c-e006-4044-bd2c-758e1387c23d",
   "metadata": {},
   "outputs": [
    {
     "name": "stdout",
     "output_type": "stream",
     "text": [
      "[[[1. 1. 1. 1.]\n",
      "  [1. 1. 1. 1.]]\n",
      "\n",
      " [[1. 1. 1. 1.]\n",
      "  [1. 1. 1. 1.]]]\n"
     ]
    }
   ],
   "source": [
    "o = np.ones((2,2,4))\n",
    "print(o)"
   ]
  },
  {
   "cell_type": "code",
   "execution_count": 15,
   "id": "fcc51e7e-02de-46ad-a14a-d6da32956cc5",
   "metadata": {},
   "outputs": [
    {
     "name": "stdout",
     "output_type": "stream",
     "text": [
      "[0. 0. 0. 0. 0. 0. 0. 0. 0. 0.]\n"
     ]
    }
   ],
   "source": [
    "e = np.empty(10) # allocated memory for the variable but the values of the array is whatever was already present in that memory location\n",
    "print(e)"
   ]
  },
  {
   "cell_type": "code",
   "execution_count": 16,
   "id": "af7bf30f-a259-4256-bcff-2edbaaf3dd7b",
   "metadata": {},
   "outputs": [
    {
     "name": "stdout",
     "output_type": "stream",
     "text": [
      "[28 30 32 34 36 38 40 42 44 46 48 50 52 54]\n"
     ]
    }
   ],
   "source": [
    "r = np.arange(28,56,2) # numpy version of range()\n",
    "print(r)"
   ]
  },
  {
   "cell_type": "code",
   "execution_count": 17,
   "id": "d83d564e-0ed3-4685-9eb6-9debf01fedfc",
   "metadata": {},
   "outputs": [
    {
     "name": "stdout",
     "output_type": "stream",
     "text": [
      "[28.         31.11111111 34.22222222 37.33333333 40.44444444 43.55555556\n",
      " 46.66666667 49.77777778 52.88888889 56.        ]\n"
     ]
    }
   ],
   "source": [
    "l = np.linspace(28,56,10) # similar to arange, but the third parameter is the no. of element or size of the array\n",
    "# so pick 5 values within the start and end but in same order. sometimes the values can be float also\n",
    "print(l)"
   ]
  },
  {
   "cell_type": "markdown",
   "id": "bfafe2c2-b7dd-427f-bc3e-3d3e358245ec",
   "metadata": {},
   "source": [
    "# Sorting and Concatenating"
   ]
  },
  {
   "cell_type": "code",
   "execution_count": 18,
   "id": "781c88f6-091c-4584-87d0-c8f70cb0fda0",
   "metadata": {},
   "outputs": [
    {
     "name": "stdout",
     "output_type": "stream",
     "text": [
      "[2 2 3 3 4 5]\n"
     ]
    }
   ],
   "source": [
    "a = np.array([4,3,2,5,3,2])\n",
    "print(np.sort(a))"
   ]
  },
  {
   "cell_type": "code",
   "execution_count": 19,
   "id": "dd9d55e5-5538-4342-ace3-3cae87708ba4",
   "metadata": {},
   "outputs": [
    {
     "name": "stdout",
     "output_type": "stream",
     "text": [
      "[1 2 3 4 5 6 7 8 9 0]\n"
     ]
    }
   ],
   "source": [
    "a = np.array([1,2,3,4,5])\n",
    "b = np.array([6,7,8,9,0])\n",
    "c = np.concatenate((a,b)) # put the arrays in a tuple because concatenate takes a tuple\n",
    "print(c)"
   ]
  },
  {
   "cell_type": "code",
   "execution_count": 20,
   "id": "5171bcbc-7709-4409-8202-6efbe86b4e17",
   "metadata": {},
   "outputs": [
    {
     "name": "stdout",
     "output_type": "stream",
     "text": [
      "[[ 1  2]\n",
      " [ 3  4]\n",
      " [ 5  6]\n",
      " [10 11]]\n"
     ]
    }
   ],
   "source": [
    "sa = np.array([\n",
    "    [1,2],\n",
    "    [3,4]\n",
    "])\n",
    "sb = np.array([\n",
    "    [5,6]\n",
    "])\n",
    "sc = np.array([[10,11]])\n",
    "sd = np.concatenate((sa,sb,sc),axis = 0)\n",
    "print(sd)"
   ]
  },
  {
   "cell_type": "markdown",
   "id": "236b943c-3915-48c8-92d5-dd3a93bce008",
   "metadata": {},
   "source": [
    "## REshaping an array"
   ]
  },
  {
   "cell_type": "code",
   "execution_count": 21,
   "id": "19628d12-831a-4d8f-b27e-5f09e3248194",
   "metadata": {},
   "outputs": [
    {
     "ename": "_IncompleteInputError",
     "evalue": "incomplete input (1639143951.py, line 5)",
     "output_type": "error",
     "traceback": [
      "  \u001b[36mCell\u001b[39m\u001b[36m \u001b[39m\u001b[32mIn[21]\u001b[39m\u001b[32m, line 5\u001b[39m\n\u001b[31m    \u001b[39m\u001b[31mprint(ja0\u001b[39m\n             ^\n\u001b[31m_IncompleteInputError\u001b[39m\u001b[31m:\u001b[39m incomplete input\n"
     ]
    }
   ],
   "source": [
    "g = np.array([3,4,5,6])\n",
    "f = g.reshape(2,2) # functionality same\n",
    "j = np.reshape(g,(2,2)) # functionality same\n",
    "print(f)\n",
    "print(ja0"
   ]
  },
  {
   "cell_type": "code",
   "execution_count": null,
   "id": "383f82af-00f0-4a1f-b136-8fd9f8c5a63d",
   "metadata": {
    "editable": true,
    "slideshow": {
     "slide_type": ""
    },
    "tags": []
   },
   "outputs": [],
   "source": [
    "newar = np.arange(1,7)\n",
    "print(newar.shape)"
   ]
  },
  {
   "cell_type": "markdown",
   "id": "a83af615-4c8f-44a9-94d0-27e478a825d4",
   "metadata": {},
   "source": [
    "### converting 1d array to 2d array"
   ]
  },
  {
   "cell_type": "code",
   "execution_count": null,
   "id": "5ef9f5d5-7da0-4ee8-ab38-d3787fa18577",
   "metadata": {},
   "outputs": [],
   "source": [
    "newar2 = newar[np.newaxis,:] # row vector\n",
    "print(newar2)"
   ]
  },
  {
   "cell_type": "code",
   "execution_count": null,
   "id": "d8151fd6-0374-4da8-9d22-48e9694167f7",
   "metadata": {},
   "outputs": [],
   "source": [
    "newar3 = newar[:,np.newaxis] # column vector\n",
    "print(newar3)"
   ]
  },
  {
   "cell_type": "code",
   "execution_count": null,
   "id": "8bda1509-66e1-4e42-a832-eefdea377cca",
   "metadata": {},
   "outputs": [],
   "source": [
    "newar4 = np.expand_dims(newar, axis=1) # column vector\n",
    "print(newar4)"
   ]
  },
  {
   "cell_type": "code",
   "execution_count": null,
   "id": "4be43de1-2ae7-4ab4-a9d0-72646d51bdd2",
   "metadata": {},
   "outputs": [],
   "source": [
    "newar5 = np.expand_dims(newar, axis=0) # row vector \n",
    "print(newar5)"
   ]
  },
  {
   "cell_type": "markdown",
   "id": "a9fd6d08-837a-40c9-8f5c-3fd2a5bf7030",
   "metadata": {},
   "source": [
    "### Indexing and Slicing"
   ]
  },
  {
   "cell_type": "code",
   "execution_count": null,
   "id": "a78ccc94-2f72-4c47-b028-df929f5c460e",
   "metadata": {},
   "outputs": [],
   "source": [
    "newar[:]"
   ]
  },
  {
   "cell_type": "code",
   "execution_count": null,
   "id": "8f7f0fcc-9d0b-4ad7-8c72-39451ca1ce48",
   "metadata": {},
   "outputs": [],
   "source": [
    "newar[3:]"
   ]
  },
  {
   "cell_type": "code",
   "execution_count": null,
   "id": "06ee8850-10e4-4709-b90b-3e7f0da9da66",
   "metadata": {},
   "outputs": [],
   "source": [
    "newar[:3]"
   ]
  },
  {
   "cell_type": "code",
   "execution_count": null,
   "id": "568eb793-dccd-4c2b-bf55-64265f43a5c0",
   "metadata": {},
   "outputs": [],
   "source": [
    "newar[:-1]"
   ]
  },
  {
   "cell_type": "code",
   "execution_count": null,
   "id": "a05b96d1-6180-43d5-bba8-80071fbdb38c",
   "metadata": {},
   "outputs": [],
   "source": [
    "newar[-1:]"
   ]
  },
  {
   "cell_type": "markdown",
   "id": "398b8044-fbb0-4014-83dd-a00c874ec4a6",
   "metadata": {},
   "source": [
    "### Dope stuf"
   ]
  },
  {
   "cell_type": "code",
   "execution_count": null,
   "id": "fafd1b21-28ab-4ca2-bc6f-d43aa38b59c0",
   "metadata": {},
   "outputs": [],
   "source": [
    "mn = np.array([[13,62,3,42],[75,6,7,84],[93,10,2,12]])"
   ]
  },
  {
   "cell_type": "code",
   "execution_count": null,
   "id": "e1a169c0-a4ee-4c6a-b2aa-a7c0713bf772",
   "metadata": {},
   "outputs": [],
   "source": [
    "mn < 7"
   ]
  },
  {
   "cell_type": "code",
   "execution_count": null,
   "id": "be374493-5eb3-49bc-832d-7706e65bde95",
   "metadata": {},
   "outputs": [],
   "source": [
    "mn[mn < 7]"
   ]
  },
  {
   "cell_type": "code",
   "execution_count": null,
   "id": "6415b4f1-cbaa-48c6-8239-1d353f524e8d",
   "metadata": {},
   "outputs": [],
   "source": [
    "mn[(mn > 7) | (mn < 15)]"
   ]
  },
  {
   "cell_type": "code",
   "execution_count": null,
   "id": "45c4f494-5aaa-44e5-a85f-cdf29a21572c",
   "metadata": {},
   "outputs": [],
   "source": [
    "np.nonzero( mn< 7) # give the index of values that satisfy the condition. first array is row index and second is column index of a single values"
   ]
  },
  {
   "cell_type": "markdown",
   "id": "e1af9e7e-5e45-44ac-8194-89514521bc10",
   "metadata": {},
   "source": [
    "### Horizontal and Verticaal Stacking"
   ]
  },
  {
   "cell_type": "code",
   "execution_count": null,
   "id": "0961d0da-d5aa-4cc1-a131-811b0768916a",
   "metadata": {},
   "outputs": [],
   "source": [
    "a = np.array([1,  2,  3,  4,  5,  6,  7,  8,  9, 10])"
   ]
  },
  {
   "cell_type": "code",
   "execution_count": null,
   "id": "7f82a757-6ec9-4645-b3cb-53a722aa39c7",
   "metadata": {},
   "outputs": [],
   "source": [
    "a1 = np.array([[1, 1],\n",
    "               [2, 2]])\n",
    "\n",
    "a2 = np.array([[3, 3],\n",
    "               [4, 4]])"
   ]
  },
  {
   "cell_type": "code",
   "execution_count": null,
   "id": "2a6e8aeb-4e32-42ac-87be-7bd640ddc46b",
   "metadata": {},
   "outputs": [],
   "source": [
    "np.vstack((a1,a2))"
   ]
  },
  {
   "cell_type": "code",
   "execution_count": null,
   "id": "19ce2298-3273-4c00-ae11-0652274dba1e",
   "metadata": {},
   "outputs": [],
   "source": [
    "ha = np.hstack((a1,a2))\n",
    "print(ha)"
   ]
  },
  {
   "cell_type": "code",
   "execution_count": null,
   "id": "22a44e7c-57c7-4c44-a613-f8c8b9276cfe",
   "metadata": {},
   "outputs": [],
   "source": [
    "print(np.split(ha,1))\n",
    "print(np.split(ha,2))"
   ]
  },
  {
   "cell_type": "markdown",
   "id": "2b6c78cf-7245-4112-9fd7-d05b289528fd",
   "metadata": {},
   "source": [
    "## Copying \n",
    "in NUmpy when we assign one array variable to another we are referencing and not copying. so, when we assign \"b = arr\" or \"c = arr[2:4]\" we are creatign a view or a shallow copy meaning we referencing the same memory location and not copyting. ex: c - arr[2:4] means c is pointing towards the slice."
   ]
  },
  {
   "cell_type": "code",
   "execution_count": null,
   "id": "7363db33-8c47-4c3d-b74b-2034692e8dbc",
   "metadata": {},
   "outputs": [],
   "source": [
    "copya =newar.copy() # this actually creates a copy"
   ]
  },
  {
   "cell_type": "code",
   "execution_count": null,
   "id": "de620ff2-6a0a-4973-80b7-99809ab2fcfc",
   "metadata": {},
   "outputs": [],
   "source": [
    "print(copya)"
   ]
  },
  {
   "cell_type": "markdown",
   "id": "d03f5aa4-b67c-46a7-842a-89d7dfbcd130",
   "metadata": {},
   "source": [
    "## Basic Operations"
   ]
  },
  {
   "cell_type": "code",
   "execution_count": null,
   "id": "9cec498d-ad02-42f2-b6cd-5b0ebb8f1c91",
   "metadata": {},
   "outputs": [],
   "source": [
    "a = np.arange(0,10)\n",
    "b = np.arange(5,15) # the length should be same\n",
    "print(a,b)"
   ]
  },
  {
   "cell_type": "code",
   "execution_count": null,
   "id": "83d53ceb-d677-45bc-81b2-ec48018849ee",
   "metadata": {},
   "outputs": [],
   "source": [
    "a + b"
   ]
  },
  {
   "cell_type": "code",
   "execution_count": null,
   "id": "302503b5-d283-4ca4-a49b-5506be43da2c",
   "metadata": {},
   "outputs": [],
   "source": [
    "a - b"
   ]
  },
  {
   "cell_type": "code",
   "execution_count": null,
   "id": "8870096a-b260-4636-a760-4b4235215a98",
   "metadata": {},
   "outputs": [],
   "source": [
    "a * b"
   ]
  },
  {
   "cell_type": "code",
   "execution_count": null,
   "id": "0e599b62-e3ae-4d9e-b13f-d9340c53f740",
   "metadata": {},
   "outputs": [],
   "source": [
    "a / b"
   ]
  },
  {
   "cell_type": "code",
   "execution_count": null,
   "id": "3e75049d-5ef4-4050-9344-cdf14de4f96d",
   "metadata": {},
   "outputs": [],
   "source": [
    "a.sum()"
   ]
  },
  {
   "cell_type": "code",
   "execution_count": null,
   "id": "d5576e9a-cf06-434a-b92d-28083c9bc99c",
   "metadata": {},
   "outputs": [],
   "source": [
    "a = a.reshape(5,2)\n",
    "a"
   ]
  },
  {
   "cell_type": "code",
   "execution_count": null,
   "id": "c47fba57-5d9f-4e1a-9913-b962df1237d8",
   "metadata": {},
   "outputs": [],
   "source": [
    "print(a.sum())\n",
    "print(a.sum(axis=0)) # column sum\n",
    "print(a.sum(axis=1)) # row sum"
   ]
  },
  {
   "cell_type": "code",
   "execution_count": null,
   "id": "fdf8275f-ea16-4134-9f60-8f075a983824",
   "metadata": {},
   "outputs": [],
   "source": [
    "print(a.min())\n",
    "print(a.min(axis=1))\n",
    "print(a.sum())\n",
    "print(a.max())\n",
    "print(a.prod())\n",
    "print(a.mean())"
   ]
  },
  {
   "cell_type": "markdown",
   "id": "dfcf5821-75d7-4fa0-9b45-371f4164a1cd",
   "metadata": {},
   "source": [
    "# Random Generator"
   ]
  },
  {
   "cell_type": "code",
   "execution_count": null,
   "id": "217747d5-a349-4379-91a9-0e66984bee98",
   "metadata": {},
   "outputs": [],
   "source": [
    "print(np.random.randint(2,9))\n",
    "rn = np.random.randint(2,9,(3,2))\n",
    "print(rn)"
   ]
  },
  {
   "cell_type": "code",
   "execution_count": null,
   "id": "4d345d72-5786-4ffa-9fd5-2b7082749ecd",
   "metadata": {},
   "outputs": [],
   "source": [
    "rng = np.random.default_rng()\n",
    "rng.integers(5,size=(2,4))"
   ]
  },
  {
   "cell_type": "code",
   "execution_count": null,
   "id": "304e70f7-7dda-4253-a25b-840c3f4201f3",
   "metadata": {},
   "outputs": [],
   "source": [
    "rng.integers(2,9,(3,2))"
   ]
  },
  {
   "cell_type": "markdown",
   "id": "086324dc-4ac9-4fef-a21b-d37a543553cb",
   "metadata": {},
   "source": [
    "# Uniques values and count"
   ]
  },
  {
   "cell_type": "code",
   "execution_count": 23,
   "id": "a9cdc6c3-8e9e-4c4c-b112-071815c34903",
   "metadata": {},
   "outputs": [],
   "source": [
    "a = np.array([11, 11, 12, 13, 14, 15, 16, 17, 12, 13, 11, 14, 18, 19, 20])"
   ]
  },
  {
   "cell_type": "code",
   "execution_count": 24,
   "id": "cfdd5e57-5a96-4116-988b-f8da5efff014",
   "metadata": {},
   "outputs": [
    {
     "name": "stdout",
     "output_type": "stream",
     "text": [
      "[11 12 13 14 15 16 17 18 19 20]\n",
      "[11 12 13 14 15 16 17 18 19 20] [ 0  2  3  4  5  6  7 12 13 14]\n",
      "[11 12 13 14 15 16 17 18 19 20] [ 0  2  3  4  5  6  7 12 13 14] [3 2 2 2 1 1 1 1 1 1]\n"
     ]
    }
   ],
   "source": [
    "print(np.unique(a))\n",
    "uniques_values, index_list = np.unique(a, return_index = True)\n",
    "print(uniques_values, index_list)\n",
    "uniques_values, index_list, uniques_counts = np.unique(a, return_index = True, return_counts = True)\n",
    "print(uniques_values, index_list, uniques_counts)"
   ]
  },
  {
   "cell_type": "markdown",
   "id": "7c8f168f-4995-451b-91ac-13793e424ff4",
   "metadata": {},
   "source": [
    "## Transpose Matrix, reverse"
   ]
  },
  {
   "cell_type": "code",
   "execution_count": null,
   "id": "06a587a7-27a9-4e78-a11c-3a4ce367b2c8",
   "metadata": {},
   "outputs": [],
   "source": [
    "b = a.reshape(3,5)\n",
    "print(b)"
   ]
  },
  {
   "cell_type": "code",
   "execution_count": null,
   "id": "f3b2988d-664c-4526-b9f5-701f1d17c2e8",
   "metadata": {},
   "outputs": [],
   "source": [
    "b.T"
   ]
  },
  {
   "cell_type": "code",
   "execution_count": null,
   "id": "aa3e17ea-1d38-4bc7-b1df-f9239a595365",
   "metadata": {},
   "outputs": [],
   "source": [
    "b.transpose()"
   ]
  },
  {
   "cell_type": "code",
   "execution_count": null,
   "id": "f4db5816-f6e3-479d-8ef7-0375690c28ca",
   "metadata": {},
   "outputs": [],
   "source": [
    "a = np.array([11, 11, 12, 13, 14, 15, 16, 17, 12, 13, 11, 14, 18, 19, 20])\n",
    "np.flip(a)"
   ]
  },
  {
   "cell_type": "code",
   "execution_count": null,
   "id": "30021139-749f-406a-8df0-a028918430fb",
   "metadata": {},
   "outputs": [],
   "source": [
    "a = a.reshape(3,5)\n",
    "a"
   ]
  },
  {
   "cell_type": "code",
   "execution_count": null,
   "id": "ad8e36e0-e224-482c-b6d8-909ec8f2c859",
   "metadata": {},
   "outputs": [],
   "source": [
    "print(np.flip(a))\n",
    "print(np.flip(a, axis=0)) # by rows\n",
    "print(np.flip(a, axis=1)) # by cols\n",
    "print(np.flip(a[1])) # only a row values is reversed"
   ]
  },
  {
   "cell_type": "markdown",
   "id": "379276c0-5b34-48e6-9356-2097bf75b57d",
   "metadata": {},
   "source": [
    "# Flatten, ravel for Flattening Multidimensional Arrays"
   ]
  },
  {
   "cell_type": "markdown",
   "id": "24ca218d-35ac-41d5-bca8-8c29c51878c0",
   "metadata": {},
   "source": [
    "Flattening refers to converting a multidimensional matrix or array to one dimensinal array"
   ]
  },
  {
   "cell_type": "code",
   "execution_count": null,
   "id": "8dee83c0-d564-4781-8044-33ccfd3b3fcd",
   "metadata": {},
   "outputs": [],
   "source": [
    "a = np.array([[20, 19, 18, 14, 11],\n",
    " [13 ,12 ,17 ,16 ,15],\n",
    " [14 ,13 ,12 ,11 ,11]])"
   ]
  },
  {
   "cell_type": "code",
   "execution_count": null,
   "id": "9cdcc251-1b44-4f59-9eac-91d787144d18",
   "metadata": {},
   "outputs": [],
   "source": [
    "print(np.ravel(a)) # does not create new array. it creates a view\n",
    "v = a.flatten() # it gives a new arrays \n",
    "print(v)"
   ]
  },
  {
   "cell_type": "code",
   "execution_count": null,
   "id": "67a36bc9-a2a8-47ed-9ae0-3ca883689b68",
   "metadata": {},
   "outputs": [],
   "source": []
  }
 ],
 "metadata": {
  "kernelspec": {
   "display_name": "Python 3 (ipykernel)",
   "language": "python",
   "name": "python3"
  },
  "language_info": {
   "codemirror_mode": {
    "name": "ipython",
    "version": 3
   },
   "file_extension": ".py",
   "mimetype": "text/x-python",
   "name": "python",
   "nbconvert_exporter": "python",
   "pygments_lexer": "ipython3",
   "version": "3.13.3"
  }
 },
 "nbformat": 4,
 "nbformat_minor": 5
}
